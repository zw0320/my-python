{
  "nbformat": 4,
  "nbformat_minor": 0,
  "metadata": {
    "colab": {
      "provenance": [],
      "authorship_tag": "ABX9TyP1Ql8JxYEygFr9JTMK734B",
      "include_colab_link": true
    },
    "kernelspec": {
      "name": "python3",
      "display_name": "Python 3"
    },
    "language_info": {
      "name": "python"
    }
  },
  "cells": [
    {
      "cell_type": "markdown",
      "metadata": {
        "id": "view-in-github",
        "colab_type": "text"
      },
      "source": [
        "<a href=\"https://colab.research.google.com/github/zw0320/my-python/blob/main/%E5%85%B3%E9%94%AE%E5%AD%97%E7%BB%83%E4%B9%A0.ipynb\" target=\"_parent\"><img src=\"https://colab.research.google.com/assets/colab-badge.svg\" alt=\"Open In Colab\"/></a>"
      ]
    },
    {
      "cell_type": "markdown",
      "source": [
        "# score = 85\n",
        "if score >= 60:\n",
        "  print(\"及格了！\")\n",
        "  \n",
        "score =95\n",
        "if score >=90:\n",
        "  print(\"优秀！\")\n",
        "elif   score >=60:  \n",
        "  print(\"及格。\")\n",
        "else:\n",
        "  print(\"不及格。\")  \n"
      ],
      "metadata": {
        "id": "EgUZCnqtQiCm"
      }
    }
  ]
}